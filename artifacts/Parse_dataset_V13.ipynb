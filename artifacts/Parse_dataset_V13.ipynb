{
 "cells": [
  {
   "cell_type": "code",
   "execution_count": 143,
   "id": "5e4761a2-08d5-4a4c-a4c5-47d8e7bf4b30",
   "metadata": {},
   "outputs": [],
   "source": [
    "import json\n",
    "\n",
    "def publications_reader(file):\n",
    "    with open(file, 'r') as json_file: \n",
    "        line = json_file.readline()\n",
    "        lines = []\n",
    "        while not line.startswith(']'):\n",
    "            line = json_file.readline()\n",
    "            lines.append(line)\n",
    "            if line.startswith('},'):\n",
    "                lines[-1] = '}'\n",
    "                json_string = \"\".join(lines)\n",
    "                json_string = re.sub('NumberInt\\((\\d*)\\)',r\"\\1\", json_string)\n",
    "                lines.clear()\n",
    "                publication = json.loads(json_string)\n",
    "                yield publication\n"
   ]
  },
  {
   "cell_type": "code",
   "execution_count": 137,
   "id": "872b7723-60cc-4755-8433-97ca5f71346e",
   "metadata": {},
   "outputs": [],
   "source": [
    "generator = publications_reader('dblpv13.json')"
   ]
  },
  {
   "cell_type": "code",
   "execution_count": 144,
   "id": "c6fb8dc1-78ea-437a-9d6d-a95f227d16ff",
   "metadata": {},
   "outputs": [],
   "source": [
    "p = next(generator)"
   ]
  },
  {
   "cell_type": "code",
   "execution_count": 147,
   "id": "ca1d9978-5898-4720-b4cf-6a8e6de95a8f",
   "metadata": {},
   "outputs": [
    {
     "data": {
      "text/plain": [
       "{'_id': '53e99784b7602d9701f3e162',\n",
       " 'title': '300',\n",
       " 'authors': [{'gid': '5b869031e1cd8e14a34a782f',\n",
       "   '_id': '53f43d95dabfaedf435b63fa',\n",
       "   'name': 'Maureen Squillace',\n",
       "   'org': 'Fox Studios Australia, Moore Park, New South Wales, Australia',\n",
       "   'orgid': '5f71b2e41c455f439fe3efd1'}],\n",
       " 'venue': {'_id': '5736ae3ad39c4f40a7976010',\n",
       "  'raw': 'SIGGRAPH Computer Animation Festival',\n",
       "  'raw_zh': None,\n",
       "  'type': 10},\n",
       " 'year': 2007,\n",
       " 'keywords': [],\n",
       " 'n_citation': 0,\n",
       " 'page_start': '14',\n",
       " 'page_end': '14',\n",
       " 'lang': 'en',\n",
       " 'volume': '',\n",
       " 'issue': '',\n",
       " 'issn': '',\n",
       " 'isbn': '',\n",
       " 'doi': '10.1145/1281740.1281746',\n",
       " 'pdf': None,\n",
       " 'url': ['http://dx.doi.org/10.1145/1281740.1281746',\n",
       "  'http://doi.acm.org/10.1145/1281740.1281746'],\n",
       " 'abstract': ''}"
      ]
     },
     "execution_count": 147,
     "metadata": {},
     "output_type": "execute_result"
    }
   ],
   "source": [
    "p"
   ]
  },
  {
   "cell_type": "markdown",
   "id": "afc10f00-9fd3-4adb-8ca3-39ac399bb88a",
   "metadata": {},
   "source": [
    "### execution time of cell below ~ 7min"
   ]
  },
  {
   "cell_type": "code",
   "execution_count": null,
   "id": "c85dca12-921b-4a40-8b12-9f4550731ea1",
   "metadata": {},
   "outputs": [],
   "source": [
    "from tqdm import tqdm\n",
    "for p in tqdm(generator):\n",
    "    pass"
   ]
  }
 ],
 "metadata": {
  "kernelspec": {
   "display_name": "Python 3 (ipykernel)",
   "language": "python",
   "name": "python3"
  },
  "language_info": {
   "codemirror_mode": {
    "name": "ipython",
    "version": 3
   },
   "file_extension": ".py",
   "mimetype": "text/x-python",
   "name": "python",
   "nbconvert_exporter": "python",
   "pygments_lexer": "ipython3",
   "version": "3.10.6"
  }
 },
 "nbformat": 4,
 "nbformat_minor": 5
}
