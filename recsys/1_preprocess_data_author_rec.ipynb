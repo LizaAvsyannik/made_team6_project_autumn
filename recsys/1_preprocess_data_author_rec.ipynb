{
 "cells": [
  {
   "cell_type": "code",
   "execution_count": 1,
   "metadata": {},
   "outputs": [],
   "source": [
    "import pandas as pd\n",
    "import json\n",
    "from sklearn.model_selection import train_test_split\n",
    "from utils import process_authors"
   ]
  },
  {
   "cell_type": "code",
   "execution_count": 2,
   "metadata": {},
   "outputs": [],
   "source": [
    "data = pd.read_csv('../clustering/results/004_of_V13_topics.csv')\n",
    "\n",
    "data.drop(data[data['authors'].map(lambda x: '\\\\' in r'%r' % x)].index, inplace=True)\n",
    "data['authors'] = data['authors'].apply(lambda x: json.loads(x.replace('\\'', '\\\"')))\n",
    "data['authors'] = data['authors'].apply(lambda x:  process_authors(x))\n",
    "data.drop(data[data['authors'].map(lambda x: x == '[]')].index, inplace=True)"
   ]
  },
  {
   "cell_type": "markdown",
   "metadata": {},
   "source": [
    "#### Perform train test split before converting data to graph format"
   ]
  },
  {
   "cell_type": "code",
   "execution_count": 3,
   "metadata": {},
   "outputs": [
    {
     "data": {
      "text/plain": [
       "((42412, 24), (10604, 24))"
      ]
     },
     "execution_count": 3,
     "metadata": {},
     "output_type": "execute_result"
    }
   ],
   "source": [
    "train, test = train_test_split(data, test_size=0.2)\n",
    "train.shape, test.shape"
   ]
  },
  {
   "cell_type": "code",
   "execution_count": 4,
   "metadata": {},
   "outputs": [
    {
     "data": {
      "text/plain": [
       "((33929, 24), (8483, 24))"
      ]
     },
     "execution_count": 4,
     "metadata": {},
     "output_type": "execute_result"
    }
   ],
   "source": [
    "train, val = train_test_split(train, test_size=0.2)\n",
    "train.shape, val.shape"
   ]
  },
  {
   "cell_type": "markdown",
   "metadata": {},
   "source": [
    "#### Process data to format sutable for LightGCN"
   ]
  },
  {
   "cell_type": "code",
   "execution_count": 5,
   "metadata": {},
   "outputs": [],
   "source": [
    "import itertools\n",
    "\n",
    "def create_lightgcn_data(data, type, num_authors=0):\n",
    "    unique_authors = set()\n",
    "    edges = []\n",
    "    for i in range(len(data)):\n",
    "        author_names = set()\n",
    "        for author in data.iloc[i]['authors']:\n",
    "            if 'name' in author:\n",
    "                author_names.add(author['name'])\n",
    "        edges.append(list(itertools.product(list(author_names), list(author_names))))\n",
    "        unique_authors = unique_authors.union(author_names)\n",
    "\n",
    "    unique_authors_id = {}\n",
    "    with open(f'data/authors_{type}.txt', 'w') as f:\n",
    "        for i, author in enumerate(unique_authors):\n",
    "            unique_authors_id[author] = i + num_authors\n",
    "            f.write(f'{i + num_authors} {author}\\n')\n",
    "        \n",
    "    with open(f'data/aminer-rec/raw/{type}.txt', 'w') as f:\n",
    "        for edge in edges:\n",
    "            for pair in edge:\n",
    "                if pair[0] != pair[1]:\n",
    "                    f.write(f'{unique_authors_id[pair[0]]} {unique_authors_id[pair[1]]}\\n')\n",
    "    \n",
    "    return len(unique_authors)"
   ]
  },
  {
   "cell_type": "code",
   "execution_count": 6,
   "metadata": {},
   "outputs": [],
   "source": [
    "train_num = create_lightgcn_data(train, 'train')"
   ]
  },
  {
   "cell_type": "code",
   "execution_count": 7,
   "metadata": {},
   "outputs": [],
   "source": [
    "val_num = create_lightgcn_data(val, 'valid', train_num)"
   ]
  },
  {
   "cell_type": "code",
   "execution_count": 8,
   "metadata": {},
   "outputs": [],
   "source": [
    "test_num = create_lightgcn_data(test, 'test', train_num + val_num)"
   ]
  },
  {
   "cell_type": "code",
   "execution_count": 10,
   "metadata": {},
   "outputs": [],
   "source": [
    "!cat data/authors_train.txt >> data/authors_id.txt\n",
    "!cat data/authors_valid.txt >> data/authors_id.txt\n",
    "!cat data/authors_test.txt >> data/authors_id.txt"
   ]
  },
  {
   "cell_type": "code",
   "execution_count": null,
   "metadata": {},
   "outputs": [],
   "source": []
  }
 ],
 "metadata": {
  "kernelspec": {
   "display_name": "Python 3.8.10 ('project_temp')",
   "language": "python",
   "name": "python3"
  },
  "language_info": {
   "codemirror_mode": {
    "name": "ipython",
    "version": 3
   },
   "file_extension": ".py",
   "mimetype": "text/x-python",
   "name": "python",
   "nbconvert_exporter": "python",
   "pygments_lexer": "ipython3",
   "version": "3.8.10"
  },
  "orig_nbformat": 4,
  "vscode": {
   "interpreter": {
    "hash": "99740754d70079307e6e1fc31d8ab8f26d82717abd6583030b67c948fd6d4961"
   }
  }
 },
 "nbformat": 4,
 "nbformat_minor": 2
}
