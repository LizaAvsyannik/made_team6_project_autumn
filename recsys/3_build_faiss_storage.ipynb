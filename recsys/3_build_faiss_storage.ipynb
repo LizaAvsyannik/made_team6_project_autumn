{
 "cells": [
  {
   "cell_type": "code",
   "execution_count": 1,
   "metadata": {},
   "outputs": [],
   "source": [
    "import faiss\n",
    "import pickle\n",
    "import torch\n",
    "from tqdm import tqdm"
   ]
  },
  {
   "cell_type": "markdown",
   "metadata": {},
   "source": [
    "Construct faiss index for authors"
   ]
  },
  {
   "cell_type": "code",
   "execution_count": 4,
   "metadata": {},
   "outputs": [],
   "source": [
    "with open('embeddings/authors.pkl', 'rb') as f:\n",
    "    author_embedding = pickle.load(f)"
   ]
  },
  {
   "cell_type": "code",
   "execution_count": 5,
   "metadata": {},
   "outputs": [],
   "source": [
    "dim = author_embedding[0].shape[0]\n",
    "k = 1000\n",
    "quantiser = faiss.IndexFlatL2(dim) \n",
    "index = faiss.IndexIVFFlat(quantiser, dim, k)\n",
    "vectors = torch.vstack(list(author_embedding.values())).numpy()"
   ]
  },
  {
   "cell_type": "code",
   "execution_count": 6,
   "metadata": {},
   "outputs": [
    {
     "name": "stdout",
     "output_type": "stream",
     "text": [
      "False\n",
      "True\n",
      "0\n",
      "125931\n"
     ]
    }
   ],
   "source": [
    "index = faiss.index_factory(dim, \"IVF1000,Flat\", faiss.METRIC_INNER_PRODUCT)\n",
    "print(index.is_trained)   # False.\n",
    "faiss.normalize_L2(vectors)\n",
    "index.train(vectors)  # Train на нашем наборе векторов\n",
    " \n",
    "# Обучение завершено, но векторов в индексе пока нет, так что добавляем их в индекс:\n",
    "print(index.is_trained)  # True\n",
    "print(index.ntotal)   # 0\n",
    "index.add(vectors)\n",
    "print(index.ntotal)   # 125931"
   ]
  },
  {
   "cell_type": "code",
   "execution_count": 21,
   "metadata": {},
   "outputs": [
    {
     "name": "stdout",
     "output_type": "stream",
     "text": [
      "[[0.9999993  0.75463057 0.7542388  0.75100183 0.7465628  0.7456584\n",
      "  0.74404657 0.7404829  0.7376095  0.73684615 0.73665935 0.73567855\n",
      "  0.7356478  0.7353619  0.7351007  0.7343046  0.7342709  0.7342142\n",
      "  0.73403394 0.73389256]\n",
      " [1.0000001  0.9184364  0.91756487 0.9175311  0.91741925 0.91535944\n",
      "  0.91526055 0.91521734 0.9133113  0.91264147 0.9125083  0.91246015\n",
      "  0.9124002  0.9122897  0.9122362  0.9114439  0.9113881  0.9113174\n",
      "  0.9111645  0.9109516 ]\n",
      " [0.99999994 0.9099736  0.8988384  0.89609903 0.8897051  0.88949513\n",
      "  0.88770324 0.886602   0.8861897  0.8834771  0.8812955  0.88076615\n",
      "  0.8798805  0.8796423  0.87944657 0.8789507  0.8789441  0.87850255\n",
      "  0.8784815  0.8779032 ]\n",
      " [1.0000001  0.8926986  0.8829227  0.88133234 0.8808643  0.8798308\n",
      "  0.8794145  0.879127   0.8790382  0.87732655 0.8772523  0.87671363\n",
      "  0.87640077 0.8761201  0.87571794 0.8751754  0.8748121  0.873698\n",
      "  0.87366104 0.8736585 ]\n",
      " [1.0000001  0.89291555 0.89147186 0.88859946 0.8875694  0.8855528\n",
      "  0.8854036  0.8850025  0.883548   0.8831017  0.8827636  0.88175845\n",
      "  0.879191   0.87862164 0.87842816 0.8781444  0.8777883  0.8773464\n",
      "  0.87726927 0.876962  ]]\n",
      "[[     0 100898 103195   8570  49522  42440  62424  72401 124439  32752\n",
      "   42266  64918 109249  94985  79532  65966  22214 118708 116655  86464]\n",
      " [     1 110764  37814   2688  73119 116009  26580  99509 124583  32179\n",
      "   23472  28559 101179  74875  81794   4347  48462  33307  59998 119681]\n",
      " [     2  68528  50879  62347  74984  17704 112578  33971  46589  67063\n",
      "   21766  19683 111384  67801  46840  69282  91071   8369    927  40790]\n",
      " [     3  49512  98874  41937  89490  19099  46868  36500  91001  97604\n",
      "   57669 121606  63019  21210  12452  91947  46355  94055  19490  20391]\n",
      " [     4  37216  32891  24638 100989 106892  98084  31329  59137  10816\n",
      "   23984  17520  21380  43939  16813  87313   2995 110269  20224 125087]]\n"
     ]
    }
   ],
   "source": [
    "topn = 20\n",
    "index.nprobe = 10\n",
    "D, I = index.search(vectors[:5], topn)  # Возвращает результат: Distances, Indices\\\n",
    "print(D)\n",
    "print(I)"
   ]
  },
  {
   "cell_type": "code",
   "execution_count": 22,
   "metadata": {},
   "outputs": [],
   "source": [
    "faiss.write_index(index, 'index/author.index')"
   ]
  },
  {
   "cell_type": "markdown",
   "metadata": {},
   "source": [
    "Construct faiss index for papers"
   ]
  },
  {
   "cell_type": "code",
   "execution_count": 2,
   "metadata": {},
   "outputs": [],
   "source": [
    "with open('embeddings/papers.pkl', 'rb') as f:\n",
    "    paper_embeddings = pickle.load(f)"
   ]
  },
  {
   "cell_type": "code",
   "execution_count": 4,
   "metadata": {},
   "outputs": [],
   "source": [
    "dim = 768\n",
    "k = 1000\n",
    "quantiser = faiss.IndexFlatL2(dim) \n",
    "index = faiss.IndexIVFFlat(quantiser, dim, k)\n",
    "vectors = torch.vstack(list(paper_embeddings.values())).numpy()"
   ]
  },
  {
   "cell_type": "code",
   "execution_count": 5,
   "metadata": {},
   "outputs": [
    {
     "name": "stdout",
     "output_type": "stream",
     "text": [
      "False\n",
      "True\n",
      "0\n",
      "51570\n"
     ]
    }
   ],
   "source": [
    "index = faiss.index_factory(dim, \"IVF1000,Flat\", faiss.METRIC_INNER_PRODUCT)\n",
    "print(index.is_trained)   # False.\n",
    "faiss.normalize_L2(vectors)\n",
    "index.train(vectors)  # Train на нашем наборе векторов\n",
    " \n",
    "# Обучение завершено, но векторов в индексе пока нет, так что добавляем их в индекс:\n",
    "print(index.is_trained)  # True\n",
    "print(index.ntotal)   # 0\n",
    "index.add(vectors)\n",
    "print(index.ntotal)   # 51570"
   ]
  },
  {
   "cell_type": "code",
   "execution_count": 6,
   "metadata": {},
   "outputs": [
    {
     "name": "stdout",
     "output_type": "stream",
     "text": [
      "[[0.9999997  0.9713516  0.97115827 0.9711544  0.9708918  0.97071505\n",
      "  0.9705364  0.9703341  0.9700297  0.9700204  0.9698895  0.9698372\n",
      "  0.9698042  0.96974653 0.9697225  0.9696674  0.9696459  0.9696205\n",
      "  0.9696082  0.9695527 ]\n",
      " [0.99999976 0.9732948  0.973127   0.97298265 0.9725933  0.97256505\n",
      "  0.97253    0.9725065  0.97246873 0.97238153 0.97237957 0.9722461\n",
      "  0.9722088  0.9721531  0.9720709  0.97193545 0.9718672  0.9717008\n",
      "  0.9716121  0.9714995 ]\n",
      " [0.9999997  0.9764929  0.97616726 0.97590476 0.97582644 0.97576475\n",
      "  0.9756774  0.9756501  0.97557867 0.9755412  0.975462   0.9753917\n",
      "  0.9752974  0.97526777 0.9752494  0.9751681  0.9750287  0.97498894\n",
      "  0.9748011  0.9747599 ]\n",
      " [1.0000002  0.9747458  0.9746575  0.97441965 0.97432446 0.97416115\n",
      "  0.97410744 0.9739583  0.9739502  0.9739168  0.97389233 0.973841\n",
      "  0.9737394  0.97370523 0.9736813  0.9736622  0.97362614 0.9736028\n",
      "  0.9735241  0.97346777]\n",
      " [1.0000005  0.97762144 0.97743356 0.9773872  0.9773576  0.9771032\n",
      "  0.97703224 0.97691554 0.9768633  0.97673184 0.9767126  0.9767099\n",
      "  0.9766014  0.97653514 0.9764822  0.9764039  0.97637826 0.97634554\n",
      "  0.9763382  0.97622025]]\n",
      "[[    0 10388  2956 27340  3007   500 44997 22353 32783 18544 26827 29515\n",
      "  41482 20181 50428 30792 34641 38538 45793 50714]\n",
      " [    1  8232 39944 40353   399 40023 28814 31078 51539  1998 18921 17902\n",
      "  36810 16829 25675 39828 33246 38533 18803 36946]\n",
      " [    2 42939 29213 12653 37808 50057 11057 11705 22212 20761 21274 29707\n",
      "  44767 37871  5838 21606 13470 28194  2552  3303]\n",
      " [    3 39600 50595 50055  6557  2327 21087 16461 21497  4874 13814 17066\n",
      "  47548 21419 24706  3882  3779   279 45916 28421]\n",
      " [    4 50770 43493 14156 42487 29686 33003 48818 11619  6753 25805 29948\n",
      "  20311 40980 40813  5221 29006  4848 10583 30876]]\n"
     ]
    }
   ],
   "source": [
    "topn = 20\n",
    "index.nprobe = 10\n",
    "D, I = index.search(vectors[:5], topn)  # Возвращает результат: Distances, Indices\\\n",
    "print(D)\n",
    "print(I)"
   ]
  },
  {
   "cell_type": "code",
   "execution_count": 7,
   "metadata": {},
   "outputs": [],
   "source": [
    "faiss.write_index(index, 'index/paper.index')"
   ]
  },
  {
   "cell_type": "code",
   "execution_count": null,
   "metadata": {},
   "outputs": [],
   "source": []
  }
 ],
 "metadata": {
  "kernelspec": {
   "display_name": "Python 3.8.10 ('project')",
   "language": "python",
   "name": "python3"
  },
  "language_info": {
   "codemirror_mode": {
    "name": "ipython",
    "version": 3
   },
   "file_extension": ".py",
   "mimetype": "text/x-python",
   "name": "python",
   "nbconvert_exporter": "python",
   "pygments_lexer": "ipython3",
   "version": "3.8.10"
  },
  "orig_nbformat": 4,
  "vscode": {
   "interpreter": {
    "hash": "f68c188f3fbf55c4fb5b529c3d21d9003dfc357793b26b4e4efbcf87d18ed729"
   }
  }
 },
 "nbformat": 4,
 "nbformat_minor": 2
}
