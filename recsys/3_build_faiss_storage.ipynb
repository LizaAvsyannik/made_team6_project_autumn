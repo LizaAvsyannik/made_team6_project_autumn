{
 "cells": [
  {
   "cell_type": "code",
   "execution_count": 1,
   "metadata": {},
   "outputs": [],
   "source": [
    "import faiss\n",
    "import pickle"
   ]
  },
  {
   "cell_type": "code",
   "execution_count": 2,
   "metadata": {},
   "outputs": [],
   "source": [
    "with open('embeddings/authors_0.pkl', 'rb') as f:\n",
    "    data2 = pickle.load(f)"
   ]
  },
  {
   "cell_type": "code",
   "execution_count": 5,
   "metadata": {},
   "outputs": [
    {
     "data": {
      "text/plain": [
       "dict_keys([72834, 41026, 10392, 113098])"
      ]
     },
     "execution_count": 5,
     "metadata": {},
     "output_type": "execute_result"
    }
   ],
   "source": [
    "data2.keys()"
   ]
  },
  {
   "cell_type": "code",
   "execution_count": 13,
   "metadata": {},
   "outputs": [],
   "source": [
    "dim = 512\n",
    "k = 10  # количество “командиров”\n",
    "quantiser = faiss.IndexFlatL2(dim) \n",
    "index = faiss.IndexIVFFlat(quantiser, dim, k)\n",
    "vectors = np.random.random((100, dim)).astype('float32')  # 1 000 000 “воинов”"
   ]
  },
  {
   "cell_type": "code",
   "execution_count": 14,
   "metadata": {},
   "outputs": [
    {
     "name": "stdout",
     "output_type": "stream",
     "text": [
      "False\n"
     ]
    },
    {
     "name": "stderr",
     "output_type": "stream",
     "text": [
      "WARNING clustering 100 points to 10 centroids: please provide at least 390 training points\n"
     ]
    },
    {
     "name": "stdout",
     "output_type": "stream",
     "text": [
      "True\n",
      "0\n",
      "100\n"
     ]
    }
   ],
   "source": [
    "index = faiss.index_factory(dim, \"IVF10,Flat\")\n",
    "print(index.is_trained)   # False.\n",
    "index.train(vectors)  # Train на нашем наборе векторов\n",
    " \n",
    "# Обучение завершено, но векторов в индексе пока нет, так что добавляем их в индекс:\n",
    "print(index.is_trained)  # True\n",
    "print(index.ntotal)   # 0\n",
    "index.add(vectors)\n",
    "print(index.ntotal)   # 1000000"
   ]
  },
  {
   "cell_type": "code",
   "execution_count": 4,
   "metadata": {},
   "outputs": [
    {
     "name": "stdout",
     "output_type": "stream",
     "text": [
      "[[   0 5662 6778 7738 6931 7809 7184]\n",
      " [   1 5831 8039 2150 5426 4569 6325]\n",
      " [   2 7348 2476 2048 5091 6322 3617]\n",
      " [   3  791 3173 6323 8374 7273 5842]\n",
      " [   4 6236 7548  746 6144 3906 5455]]\n",
      "[[ 0.       71.5358   72.18826  72.74326  73.22424  73.333275 73.73315 ]\n",
      " [ 0.       67.604836 68.49479  68.842224 71.83992  72.084335 72.108154]\n",
      " [ 0.       66.717865 67.72709  69.63664  70.359055 70.93329  71.03238 ]\n",
      " [ 0.       68.2641   68.32059  68.82381  68.86326  69.12085  69.55176 ]\n",
      " [ 0.       72.03398  72.32419  73.00312  73.13061  73.76176  73.81279 ]]\n"
     ]
    }
   ],
   "source": [
    "topn = 7\n",
    "D, I = index.search(vectors[:5], topn)  # Возвращает результат: Distances, Indices\n",
    "print(I)\n",
    "print(D)"
   ]
  },
  {
   "cell_type": "code",
   "execution_count": null,
   "metadata": {},
   "outputs": [],
   "source": []
  }
 ],
 "metadata": {
  "kernelspec": {
   "display_name": "Python 3.8.10 ('project_temp')",
   "language": "python",
   "name": "python3"
  },
  "language_info": {
   "codemirror_mode": {
    "name": "ipython",
    "version": 3
   },
   "file_extension": ".py",
   "mimetype": "text/x-python",
   "name": "python",
   "nbconvert_exporter": "python",
   "pygments_lexer": "ipython3",
   "version": "3.8.10"
  },
  "orig_nbformat": 4,
  "vscode": {
   "interpreter": {
    "hash": "99740754d70079307e6e1fc31d8ab8f26d82717abd6583030b67c948fd6d4961"
   }
  }
 },
 "nbformat": 4,
 "nbformat_minor": 2
}
