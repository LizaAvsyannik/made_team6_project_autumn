{
 "cells": [
  {
   "cell_type": "code",
   "execution_count": 3,
   "metadata": {},
   "outputs": [],
   "source": [
    "import faiss\n",
    "import pickle"
   ]
  },
  {
   "cell_type": "markdown",
   "metadata": {},
   "source": [
    "Usage: author recommendation"
   ]
  },
  {
   "cell_type": "code",
   "execution_count": 7,
   "metadata": {},
   "outputs": [],
   "source": [
    "# load author mapping\n",
    "with open('data/idx2author.pkl', 'rb') as f:\n",
    "    idx2author = pickle.load(f)\n",
    "\n",
    "with open('data/author2idx.pkl', 'rb') as f:\n",
    "    author2idx = pickle.load(f)\n",
    "\n",
    "# load embeddings\n",
    "with open('embeddings/authors.pkl', 'rb') as f:\n",
    "    author_embedding = pickle.load(f)"
   ]
  },
  {
   "cell_type": "code",
   "execution_count": 5,
   "metadata": {},
   "outputs": [],
   "source": [
    "# load index\n",
    "index = faiss.read_index('index/author.index')"
   ]
  },
  {
   "cell_type": "code",
   "execution_count": 13,
   "metadata": {},
   "outputs": [
    {
     "name": "stdout",
     "output_type": "stream",
     "text": [
      "Joris Roels\n",
      "Jonas De Vylder\n",
      "gerda claeskens\n",
      "Emile Kelkboom\n"
     ]
    }
   ],
   "source": [
    "author_name = 'Jan Aelterman'\n",
    "topn = 5\n",
    "index.nprobe = 10 # number of clusters to search\n",
    "try: \n",
    "    idx = author2idx[author_name]\n",
    "    embedding = author_embedding[idx].unsqueeze(0).numpy()\n",
    "    faiss.normalize_L2(embedding)\n",
    "    _, I = index.search(embedding, topn)\n",
    "except KeyError:\n",
    "    print('Author not in index')\n",
    "\n",
    "for rec in I[0][1:]: # as first is always the same author\n",
    "    print(idx2author[rec])"
   ]
  },
  {
   "cell_type": "markdown",
   "metadata": {},
   "source": [
    "Usage: paper recommendation"
   ]
  },
  {
   "cell_type": "code",
   "execution_count": 14,
   "metadata": {},
   "outputs": [],
   "source": [
    "# load embeddings\n",
    "with open('embeddings/papers.pkl', 'rb') as f:\n",
    "    paper_embeddings = pickle.load(f)"
   ]
  },
  {
   "cell_type": "code",
   "execution_count": 15,
   "metadata": {},
   "outputs": [],
   "source": [
    "# load index\n",
    "index = faiss.read_index('index/paper.index')"
   ]
  },
  {
   "cell_type": "code",
   "execution_count": 21,
   "metadata": {},
   "outputs": [
    {
     "name": "stdout",
     "output_type": "stream",
     "text": [
      "53e997ccb7602d9701fbe45d\n",
      "53e9a15bb7602d9702a4b00d\n",
      "53e9a440b7602d9702d5d65b\n",
      "53e9bc61b7602d97048dbf93\n",
      "56d91fa3dabfae2eee95c38a\n"
     ]
    }
   ],
   "source": [
    "paper_id = '53e997ccb7602d9701fbe45d'\n",
    "topn = 5\n",
    "index.nprobe = 10 # number of clusters to search\n",
    "\n",
    "embedding = paper_embeddings[paper_id].unsqueeze(0).numpy()\n",
    "faiss.normalize_L2(embedding)\n",
    "_, I = index.search(embedding, topn)\n",
    "\n",
    "\n",
    "res_id = []\n",
    "for rec in I[0]: # as first is always the same author\n",
    "    id = list(paper_embeddings.keys())[rec]\n",
    "    res_id.append(id)\n",
    "    print(id)"
   ]
  },
  {
   "cell_type": "code",
   "execution_count": 36,
   "metadata": {},
   "outputs": [
    {
     "name": "stdout",
     "output_type": "stream",
     "text": [
      "6        Different geometries of nitromethane dimer and...\n",
      "8348     Rate coefficients for the reaction of the hydr...\n",
      "10790    Vibrational analysis of tellurium tetrachlorid...\n",
      "32736    The aromatic oligoamide (arylamide) foldamer c...\n",
      "45479    The hydration behavior of two model disacchari...\n",
      "Name: abstract, dtype: object\n"
     ]
    }
   ],
   "source": [
    "import pandas as pd\n",
    "\n",
    "data = pd.read_csv('../clustering/results/004_of_V13_topics.csv')\n",
    "# first row - the paper for which we searched\n",
    "print(data['abstract'][data['_id'].isin(res_id)])\n"
   ]
  },
  {
   "cell_type": "code",
   "execution_count": null,
   "metadata": {},
   "outputs": [],
   "source": []
  }
 ],
 "metadata": {
  "kernelspec": {
   "display_name": "Python 3.8.10 ('project')",
   "language": "python",
   "name": "python3"
  },
  "language_info": {
   "codemirror_mode": {
    "name": "ipython",
    "version": 3
   },
   "file_extension": ".py",
   "mimetype": "text/x-python",
   "name": "python",
   "nbconvert_exporter": "python",
   "pygments_lexer": "ipython3",
   "version": "3.8.10"
  },
  "orig_nbformat": 4,
  "vscode": {
   "interpreter": {
    "hash": "f68c188f3fbf55c4fb5b529c3d21d9003dfc357793b26b4e4efbcf87d18ed729"
   }
  }
 },
 "nbformat": 4,
 "nbformat_minor": 2
}
