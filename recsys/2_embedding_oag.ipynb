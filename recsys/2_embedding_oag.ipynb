{
 "cells": [
  {
   "cell_type": "code",
   "execution_count": 1,
   "metadata": {},
   "outputs": [],
   "source": [
    "import pandas as pd\n",
    "import json\n",
    "from utils import process_authors\n",
    "from tqdm import tqdm\n",
    "import pickle"
   ]
  },
  {
   "cell_type": "code",
   "execution_count": 2,
   "metadata": {},
   "outputs": [],
   "source": [
    "data = pd.read_csv('../clustering/results/004_of_V13_topics.csv')\n",
    "\n",
    "data.drop(data[data['authors'].map(lambda x: '\\\\' in r'%r' % x)].index, inplace=True)\n",
    "data.drop(data[data['venue'].map(lambda x: '\\\\' in r'%r' % x)].index, inplace=True)\n",
    "data = data.dropna(subset=['venue'])\n",
    "data['venue'] = data['venue'].apply(lambda x: x.replace('None', 'null'))\n",
    "data.drop(data[data['venue'].map(lambda x: x == '')].index, inplace=True)\n",
    "data.drop(data[data['venue'].map(lambda x: '\\\\' in r'%r' % x)].index, inplace=True)\n",
    "data['authors'] = data['authors'].apply(lambda x: json.loads(x.replace('\\'', '\\\"')))\n",
    "data['venue'] = data['venue'].apply(lambda x: json.loads(x.replace('\\'', '\\\"')))\n",
    "data['authors'] = data['authors'].apply(lambda x:  process_authors(x))\n",
    "data.drop(data[data['authors'].map(lambda x: x == '[]')].index, inplace=True)"
   ]
  },
  {
   "cell_type": "code",
   "execution_count": 3,
   "metadata": {},
   "outputs": [],
   "source": [
    "authors_id_dict = {}\n",
    "with open('data/authors_id.txt', 'r') as f:\n",
    "    for line in f:\n",
    "        auhtor = line.strip().split()\n",
    "        authors_id_dict[' '.join(auhtor[1:])] = int(auhtor[0])"
   ]
  },
  {
   "cell_type": "code",
   "execution_count": 4,
   "metadata": {},
   "outputs": [
    {
     "name": "stderr",
     "output_type": "stream",
     "text": [
      "51607it [07:39, 112.28it/s]\n"
     ]
    }
   ],
   "source": [
    "from cogdl.oag import oagbert\n",
    "tokenizer, model = oagbert(\"oagbert-v2\")\n",
    "\n",
    "author_oag_embedding_dict = {}\n",
    "paper_oag_embedding_dict = {}\n",
    "for i, row in tqdm(data.iterrows()):\n",
    "    authors = []\n",
    "    for author in row['authors']:\n",
    "        if 'name' in author:\n",
    "            authors.append(' '.join(author['name'].strip().split()))\n",
    "    title = row['title']\n",
    "    abstract = row['abstract']\n",
    "    concepts = row['fos']\n",
    "    if 'raw' in row['venue']:\n",
    "        venue = row['venue']['raw']\n",
    "    else:\n",
    "        venue = ''\n",
    "    try:\n",
    "        paper_info = model.encode_paper(\n",
    "        title=title,\n",
    "        abstract=abstract,\n",
    "        venue=venue,\n",
    "        authors=authors,\n",
    "        reduction=\"max\",\n",
    "        )\n",
    "        \n",
    "        paper_oag_embedding_dict[row['_id']] = paper_info['text'][0]['pooled_output'].detach().cpu()\n",
    "        for author in paper_info['authors']:\n",
    "            author_oag_embedding_dict[authors_id_dict[author['originalText']]] = author['pooled_output'].detach().cpu()\n",
    "        # if i % 1000 == 0:\n",
    "        #     with open(f'embeddings/authors_{i}.pkl', 'wb') as f:\n",
    "        #         pickle.dump(author_oag_embedding_dict, f)\n",
    "        #     with open(f'embeddings/papers_{i}.pkl', 'wb') as f:\n",
    "        #         pickle.dump(paper_oag_embedding_dict, f)\n",
    "    except ValueError:\n",
    "        continue"
   ]
  },
  {
   "cell_type": "code",
   "execution_count": 20,
   "metadata": {},
   "outputs": [],
   "source": [
    "author_oag_embedding_dict_fixed = {}\n",
    "authors_id_dict_fixed = {}\n",
    "author_id_dict_inverse = {v: k for k, v in authors_id_dict.items()}"
   ]
  },
  {
   "cell_type": "code",
   "execution_count": 22,
   "metadata": {},
   "outputs": [],
   "source": [
    "for i, j in enumerate(sorted(list(author_oag_embedding_dict.keys()))):\n",
    "    author_oag_embedding_dict_fixed[i] = author_oag_embedding_dict[j]\n",
    "    authors_id_dict_fixed[i] = author_id_dict_inverse[j]"
   ]
  },
  {
   "cell_type": "code",
   "execution_count": 29,
   "metadata": {},
   "outputs": [],
   "source": [
    "with open('embeddings/authors.pkl', 'wb') as f:\n",
    "    pickle.dump(author_oag_embedding_dict_fixed, f)\n",
    "with open('embeddings/papers.pkl', 'wb') as f:\n",
    "    pickle.dump(paper_oag_embedding_dict, f)"
   ]
  },
  {
   "cell_type": "code",
   "execution_count": 30,
   "metadata": {},
   "outputs": [],
   "source": [
    "with open('data/idx2author.pkl', 'wb') as f:\n",
    "    pickle.dump(authors_id_dict_fixed, f)\n",
    "with open('data/author2idx.pkl', 'wb') as f:\n",
    "    pickle.dump({v: k for k, v in authors_id_dict_fixed.items()}, f)"
   ]
  },
  {
   "cell_type": "code",
   "execution_count": null,
   "metadata": {},
   "outputs": [],
   "source": []
  }
 ],
 "metadata": {
  "kernelspec": {
   "display_name": "Python 3.8.10 ('project')",
   "language": "python",
   "name": "python3"
  },
  "language_info": {
   "codemirror_mode": {
    "name": "ipython",
    "version": 3
   },
   "file_extension": ".py",
   "mimetype": "text/x-python",
   "name": "python",
   "nbconvert_exporter": "python",
   "pygments_lexer": "ipython3",
   "version": "3.8.10"
  },
  "orig_nbformat": 4,
  "vscode": {
   "interpreter": {
    "hash": "f68c188f3fbf55c4fb5b529c3d21d9003dfc357793b26b4e4efbcf87d18ed729"
   }
  }
 },
 "nbformat": 4,
 "nbformat_minor": 2
}
