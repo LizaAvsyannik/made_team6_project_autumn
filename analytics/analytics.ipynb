{
 "cells": [
  {
   "cell_type": "code",
   "execution_count": 1,
   "metadata": {},
   "outputs": [],
   "source": [
    "import pandas as pd\n",
    "import json\n",
    "from itertools import product\n",
    "\n",
    "from utils import process_authors, add_citations_to_authors, process_n_citations\n",
    "from visualization import visualize_barchart\n",
    "\n",
    "%load_ext autoreload\n",
    "%autoreload 2"
   ]
  },
  {
   "cell_type": "code",
   "execution_count": 2,
   "metadata": {},
   "outputs": [],
   "source": [
    "data = pd.read_csv('../clustering/results/004_of_V13_topics.csv')"
   ]
  },
  {
   "cell_type": "code",
   "execution_count": 3,
   "metadata": {},
   "outputs": [],
   "source": [
    "data.drop(data[data['authors'].map(lambda x: '\\\\' in r'%r' % x)].index, inplace=True)\n",
    "data['authors'] = data['authors'].apply(lambda x: json.loads(x.replace('\\'', '\\\"')))\n",
    "data['authors'] = data['authors'].apply(lambda x:  process_authors(x))\n",
    "data.drop(data[data['authors'].map(lambda x: x == '[]')].index, inplace=True)\n",
    "data['authors'] = data.apply(lambda row: add_citations_to_authors(row), axis=1)"
   ]
  },
  {
   "cell_type": "markdown",
   "metadata": {},
   "source": [
    "### Most citated authors in each topic"
   ]
  },
  {
   "cell_type": "code",
   "execution_count": 4,
   "metadata": {},
   "outputs": [],
   "source": [
    "data_grouped = data.groupby(by='topic')['authors'].sum().reset_index(name ='authors')\n",
    "data_grouped['authors'] = data_grouped['authors'].apply(lambda x: process_n_citations(x))"
   ]
  },
  {
   "cell_type": "code",
   "execution_count": 5,
   "metadata": {},
   "outputs": [],
   "source": [
    "data_grouped.to_csv('data/grouped_by_topic_with_author_num_citation.csv')"
   ]
  },
  {
   "cell_type": "code",
   "execution_count": 6,
   "metadata": {},
   "outputs": [],
   "source": [
    "fig = visualize_barchart(data_grouped.to_dict(orient='records'))\n",
    "# fig.show()"
   ]
  },
  {
   "cell_type": "code",
   "execution_count": 7,
   "metadata": {},
   "outputs": [],
   "source": [
    "fig.write_html('html/top_citation_authors.html')"
   ]
  },
  {
   "cell_type": "markdown",
   "metadata": {},
   "source": [
    "### Network Graph"
   ]
  },
  {
   "cell_type": "code",
   "execution_count": 14,
   "metadata": {},
   "outputs": [
    {
     "name": "stdout",
     "output_type": "stream",
     "text": [
      "Local cdn resources have problems on chrome/safari when used in jupyter-notebook. \n"
     ]
    }
   ],
   "source": [
    "from pyvis.network import Network\n",
    "net = Network(notebook=True)"
   ]
  },
  {
   "cell_type": "code",
   "execution_count": 19,
   "metadata": {},
   "outputs": [],
   "source": [
    "import itertools\n",
    "\n",
    "\n",
    "unique_authors = set()\n",
    "edges = {}\n",
    "for i in range(len(data[:500])):\n",
    "    author_names = set()\n",
    "    for author in data.iloc[i]['authors']:\n",
    "        if 'name' in author:\n",
    "            author_names.add(author['name'])\n",
    "    edges[data.iloc[i]['title']] = list(itertools.product(list(author_names), list(author_names)))\n",
    "    unique_authors = unique_authors.union(author_names)"
   ]
  },
  {
   "cell_type": "code",
   "execution_count": 20,
   "metadata": {},
   "outputs": [],
   "source": [
    "net.add_nodes(list(unique_authors))"
   ]
  },
  {
   "cell_type": "code",
   "execution_count": 21,
   "metadata": {},
   "outputs": [],
   "source": [
    "for article in edges:\n",
    "    for pair in edges[article]:\n",
    "        if pair[0] != pair[1]:\n",
    "            net.add_edge(pair[0], pair[1])"
   ]
  },
  {
   "cell_type": "code",
   "execution_count": 22,
   "metadata": {},
   "outputs": [
    {
     "data": {
      "text/html": [
       "\n",
       "        <iframe\n",
       "            width=\"100%\"\n",
       "            height=\"600px\"\n",
       "            src=\"html/nework_graph.html\"\n",
       "            frameborder=\"0\"\n",
       "            allowfullscreen\n",
       "            \n",
       "        ></iframe>\n",
       "        "
      ],
      "text/plain": [
       "<IPython.lib.display.IFrame at 0x7fa044224820>"
      ]
     },
     "execution_count": 22,
     "metadata": {},
     "output_type": "execute_result"
    }
   ],
   "source": [
    "net.show('html/nework_graph.html')"
   ]
  },
  {
   "cell_type": "code",
   "execution_count": null,
   "metadata": {},
   "outputs": [],
   "source": []
  }
 ],
 "metadata": {
  "kernelspec": {
   "display_name": "Python 3.8.10 ('project')",
   "language": "python",
   "name": "python3"
  },
  "language_info": {
   "codemirror_mode": {
    "name": "ipython",
    "version": 3
   },
   "file_extension": ".py",
   "mimetype": "text/x-python",
   "name": "python",
   "nbconvert_exporter": "python",
   "pygments_lexer": "ipython3",
   "version": "3.8.10"
  },
  "orig_nbformat": 4,
  "vscode": {
   "interpreter": {
    "hash": "f68c188f3fbf55c4fb5b529c3d21d9003dfc357793b26b4e4efbcf87d18ed729"
   }
  }
 },
 "nbformat": 4,
 "nbformat_minor": 2
}
